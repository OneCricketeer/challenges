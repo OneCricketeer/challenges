{
  "cells": [
    {
      "cell_type": "markdown",
      "metadata": {
        "id": "WxgX-v_ox8Rs"
      },
      "source": [
        "# Given \n",
        "\n",
        "- `api_response` (such as JSON from a web-service)\n",
        "- `dimensions`\n",
        "- `kpis`\n",
        "\n",
        "# Expected\n",
        "\n",
        "A list of flattened JSON with the names of each dimension listed out and the kpis extracted from the inner-most values. \n",
        "\n",
        "```python\n",
        "def flatten_response(api_response, dimensions, kpis):\n",
        "    pass\n",
        "```"
      ]
    },
    {
      "cell_type": "code",
      "execution_count": 13,
      "metadata": {
        "id": "U0ybssq9x8Ru"
      },
      "outputs": [],
      "source": [
        "dimensions = [\"network\", \"campaign\", \"agenda\", \"date\"]\n",
        "kpis = [\"clicks\", \"impressions\", \"results\"]\n",
        "\n",
        "api_response = {\n",
        "  \"network\": [\n",
        "      {\n",
        "          \"name\": \"Foo\",\n",
        "          \"campaign\": [\n",
        "              {\n",
        "                  \"name\": \"C1\",\n",
        "                  \"agenda\": [\n",
        "                      {\n",
        "                          \"name\": \"A1\",\n",
        "                          \"date\": [\n",
        "                              {\n",
        "                                \"date\": \"2012-01-02\",\n",
        "                                \"values\": [1, 2, 3]\n",
        "                              }\n",
        "                          ]\n",
        "                      }\n",
        "                  ]\n",
        "              }\n",
        "          ]\n",
        "      },\n",
        "      {\n",
        "        \"name\": \"Bar\",\n",
        "        \"campaign\": [\n",
        "            {\n",
        "              \"name\": \"C2\",\n",
        "              \"agenda\": [\n",
        "                  {\n",
        "                      \"name\": \"A2\",\n",
        "                      \"date\": [\n",
        "                          {\n",
        "                            \"date\": \"2012-01-01\",\n",
        "                            \"values\": [4, 5, 6]\n",
        "                          },\n",
        "                          {\n",
        "                            \"date\": \"2012-03-01\",\n",
        "                            \"values\": [4, 5, 6]\n",
        "                          }\n",
        "                      ]\n",
        "                  },\n",
        "                  {\n",
        "                      \"name\": \"A2-2\",\n",
        "                      \"date\": [\n",
        "                          {\n",
        "                            \"date\": \"2012-01-01\",\n",
        "                            \"values\": [4, 5, 6]\n",
        "                          },\n",
        "                          {\n",
        "                            \"date\": \"2012-03-01\",\n",
        "                            \"values\": [4, 5, 6]\n",
        "                          }\n",
        "                      ]\n",
        "                  },\n",
        "              ]\n",
        "            },\n",
        "            {\n",
        "              \"name\": \"C2-2\",\n",
        "                  \"agenda\": [\n",
        "                      {\n",
        "                          \"name\": \"A3\",\n",
        "                          \"date\": [\n",
        "                              {\n",
        "                                \"date\": \"2014-01-01\",\n",
        "                                \"values\": [-2, 5, 60]\n",
        "                              },\n",
        "                              {\n",
        "                                \"date\": \"2015-03-01\",\n",
        "                                \"values\": [4, 10, 6]\n",
        "                              }\n",
        "                          ]\n",
        "                      }\n",
        "                  ]\n",
        "            }\n",
        "         ]\n",
        "      }\n",
        "  ]\n",
        "}"
      ]
    },
    {
      "cell_type": "code",
      "execution_count": 24,
      "metadata": {
        "id": "pXfSYglGx8Rw"
      },
      "outputs": [],
      "source": [
        "from typing import Dict, Union, Sequence\n",
        "\n",
        "JSONValue = Union[str, int]\n",
        "JSONNode = Dict[str, JSONValue]\n",
        "JSONArray = Sequence[JSONNode]\n",
        "\n",
        "def _flatten_last_dimension(response: JSONNode, dimension: str, kpis: Sequence[str]) -> JSONArray:  \n",
        "    result: JSONArray = []\n",
        "    for x in response.get(dimension, []):\n",
        "        # take a copy of the input and pull out the values into the same object\n",
        "        # x: JSONNode\n",
        "        # _x = x.copy()\n",
        "        # for i, k in enumerate(kpis): \n",
        "        #     _x[k] = _x['values'][i]\n",
        "        # del _x['values']\n",
        "        \n",
        "        # Other solution: built a new dict\n",
        "        _x: JSONNode = {'date': x[dimension]}\n",
        "        for i, k in enumerate(kpis): \n",
        "          _x[k] = x['values'][i]\n",
        "\n",
        "        result.append(_x)\n",
        "\n",
        "    \n",
        "    return result\n",
        "    \n",
        "\n",
        "def _flatten_response(dimension_response: JSONNode, dimensions: Sequence[str], dim_idx: int, kpis: Sequence[str]) -> JSONArray:\n",
        "    result: JSONArray = []\n",
        "\n",
        "    dim_name: str = dimensions[dim_idx]\n",
        "    for x in dimension_response.get(dim_name, []):\n",
        "        name: str = x[\"name\"]\n",
        "        if dim_idx == len(dimensions) - 2:  # next iteration will be the last dimension\n",
        "            resp = _flatten_last_dimension(x, dimensions[dim_idx + 1], kpis)\n",
        "        else:\n",
        "            resp = _flatten_response(x, dimensions, dim_idx + 1, kpis)\n",
        "\n",
        "        for r in resp:\n",
        "            r[dim_name] = name\n",
        "            result.append(r)\n",
        "\n",
        "    return result\n",
        "\n",
        "def flatten_response(api_response: JSONNode, dimensions: Sequence[str], kpis: Sequence[str]):\n",
        "    return _flatten_response(api_response, dimensions, 0, kpis)\n"
      ]
    },
    {
      "cell_type": "code",
      "execution_count": 25,
      "metadata": {
        "id": "kyp-io7Ux8Rx",
        "outputId": "71bc3980-14a6-4505-d3fc-5f2e96b5774e",
        "colab": {
          "base_uri": "https://localhost:8080/"
        }
      },
      "outputs": [
        {
          "output_type": "stream",
          "name": "stdout",
          "text": [
            "{'date': '2012-01-02', 'clicks': 1, 'impressions': 2, 'results': 3, 'agenda': 'A1', 'campaign': 'C1', 'network': 'Foo'}\n",
            "{'date': '2012-01-01', 'clicks': 4, 'impressions': 5, 'results': 6, 'agenda': 'A2', 'campaign': 'C2', 'network': 'Bar'}\n",
            "{'date': '2012-03-01', 'clicks': 4, 'impressions': 5, 'results': 6, 'agenda': 'A2', 'campaign': 'C2', 'network': 'Bar'}\n",
            "{'date': '2012-01-01', 'clicks': 4, 'impressions': 5, 'results': 6, 'agenda': 'A2-2', 'campaign': 'C2', 'network': 'Bar'}\n",
            "{'date': '2012-03-01', 'clicks': 4, 'impressions': 5, 'results': 6, 'agenda': 'A2-2', 'campaign': 'C2', 'network': 'Bar'}\n",
            "{'date': '2014-01-01', 'clicks': -2, 'impressions': 5, 'results': 60, 'agenda': 'A3', 'campaign': 'C2-2', 'network': 'Bar'}\n",
            "{'date': '2015-03-01', 'clicks': 4, 'impressions': 10, 'results': 6, 'agenda': 'A3', 'campaign': 'C2-2', 'network': 'Bar'}\n"
          ]
        }
      ],
      "source": [
        "for r in flatten_response(api_response, dimensions, kpis):\n",
        "    print(r)"
      ]
    }
  ],
  "metadata": {
    "kernelspec": {
      "display_name": "Python 3",
      "language": "python",
      "name": "python3"
    },
    "language_info": {
      "codemirror_mode": {
        "name": "ipython",
        "version": 3
      },
      "file_extension": ".py",
      "mimetype": "text/x-python",
      "name": "python",
      "nbconvert_exporter": "python",
      "pygments_lexer": "ipython3",
      "version": "3.7.4"
    },
    "colab": {
      "name": "flatten_json.ipynb",
      "provenance": []
    }
  },
  "nbformat": 4,
  "nbformat_minor": 0
}
