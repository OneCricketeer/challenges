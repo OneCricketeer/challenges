{
 "cells": [
  {
   "cell_type": "markdown",
   "metadata": {},
   "source": [
    "# Given \n",
    "\n",
    "- `api_response` (such as JSON from a web-service)\n",
    "- `dimensions`\n",
    "- `kpis`\n",
    "\n",
    "# Expected\n",
    "\n",
    "A list of flattened JSON with the names of each dimension listed out and the kpis extracted from the inner-most values. \n",
    "\n",
    "```python\n",
    "def flatten_response(api_response, dimensions, kpis):\n",
    "    pass\n",
    "```"
   ]
  },
  {
   "cell_type": "code",
   "execution_count": 58,
   "metadata": {},
   "outputs": [],
   "source": [
    "dimensions = [\"network\", \"campaign\", \"agenda\", \"date\"]\n",
    "kpis = [\"clicks\", \"impressions\", \"results\"]\n",
    "\n",
    "api_response = {\n",
    "  \"network\": [\n",
    "      {\n",
    "          \"name\": \"Foo\",\n",
    "          \"campaign\": [\n",
    "              {\n",
    "                  \"name\": \"C1\",\n",
    "                  \"agenda\": [\n",
    "                      {\n",
    "                          \"name\": \"A1\",\n",
    "                          \"date\": [\n",
    "                              {\n",
    "                                \"date\": \"2012-01-02\",\n",
    "                                \"values\": [1, 2, 3]\n",
    "                              }\n",
    "                          ]\n",
    "                      }\n",
    "                  ]\n",
    "              }\n",
    "          ]\n",
    "      },\n",
    "      {\n",
    "        \"name\": \"Bar\",\n",
    "        \"campaign\": [\n",
    "            {\n",
    "              \"name\": \"C2\",\n",
    "              \"agenda\": [\n",
    "                  {\n",
    "                      \"name\": \"A2\",\n",
    "                      \"date\": [\n",
    "                          {\n",
    "                            \"date\": \"2012-01-01\",\n",
    "                            \"values\": [4, 5, 6]\n",
    "                          },\n",
    "                          {\n",
    "                            \"date\": \"2012-03-01\",\n",
    "                            \"values\": [4, 5, 6]\n",
    "                          }\n",
    "                      ]\n",
    "                  },\n",
    "                  {\n",
    "                      \"name\": \"A2-2\",\n",
    "                      \"date\": [\n",
    "                          {\n",
    "                            \"date\": \"2012-01-01\",\n",
    "                            \"values\": [4, 5, 6]\n",
    "                          },\n",
    "                          {\n",
    "                            \"date\": \"2012-03-01\",\n",
    "                            \"values\": [4, 5, 6]\n",
    "                          }\n",
    "                      ]\n",
    "                  },\n",
    "              ]\n",
    "            },\n",
    "            {\n",
    "              \"name\": \"C2-2\",\n",
    "                  \"agenda\": [\n",
    "                      {\n",
    "                          \"name\": \"A3\",\n",
    "                          \"date\": [\n",
    "                              {\n",
    "                                \"date\": \"2014-01-01\",\n",
    "                                \"values\": [-2, 5, 60]\n",
    "                              },\n",
    "                              {\n",
    "                                \"date\": \"2015-03-01\",\n",
    "                                \"values\": [4, 10, 6]\n",
    "                              }\n",
    "                          ]\n",
    "                      }\n",
    "                  ]\n",
    "            }\n",
    "         ]\n",
    "      }\n",
    "  ]\n",
    "}"
   ]
  },
  {
   "cell_type": "code",
   "execution_count": 64,
   "metadata": {},
   "outputs": [],
   "source": [
    "\n",
    "def _flatten_last_dimension(response, dimension, kpis):  \n",
    "    result = []\n",
    "    for x in response.get(dimension, []): # assert dimension == last dimension name\n",
    "        _x = x.copy()\n",
    "        for i, k in enumerate(kpis): \n",
    "            _x[k] = _x['values'][i]\n",
    "        del _x['values']\n",
    "        \n",
    "        result.append(_x)\n",
    "    \n",
    "    return result\n",
    "    \n",
    "\n",
    "def _flatten_response(dimension_response, dimensions, d_i, kpis):\n",
    "    result = []\n",
    "\n",
    "    d = dimensions[d_i]\n",
    "    for x in dimension_response.get(d, []):\n",
    "        name = x[\"name\"]\n",
    "        if d_i == len(dimensions) - 2:  # next iteration will be the last dimension\n",
    "            resp = _flatten_last_dimension(x, dimensions[d_i+1], kpis)\n",
    "        else:\n",
    "            resp = _flatten_response(x, dimensions, d_i+1, kpis)\n",
    "        for r in resp:\n",
    "            r[d] = name\n",
    "            result.append(r)\n",
    "\n",
    "    return result\n",
    "\n",
    "def flatten_response(api_response, dimensions, kpis):\n",
    "    return _flatten_response(api_response, dimensions, 0, kpis)\n"
   ]
  },
  {
   "cell_type": "code",
   "execution_count": 65,
   "metadata": {},
   "outputs": [
    {
     "name": "stdout",
     "output_type": "stream",
     "text": [
      "{'date': '2012-01-02', 'clicks': 1, 'impressions': 2, 'results': 3, 'agenda': 'A1', 'campaign': 'C1', 'network': 'Foo'}\n",
      "{'date': '2012-01-01', 'clicks': 4, 'impressions': 5, 'results': 6, 'agenda': 'A2', 'campaign': 'C2', 'network': 'Bar'}\n",
      "{'date': '2012-03-01', 'clicks': 4, 'impressions': 5, 'results': 6, 'agenda': 'A2', 'campaign': 'C2', 'network': 'Bar'}\n",
      "{'date': '2012-01-01', 'clicks': 4, 'impressions': 5, 'results': 6, 'agenda': 'A2-2', 'campaign': 'C2', 'network': 'Bar'}\n",
      "{'date': '2012-03-01', 'clicks': 4, 'impressions': 5, 'results': 6, 'agenda': 'A2-2', 'campaign': 'C2', 'network': 'Bar'}\n",
      "{'date': '2014-01-01', 'clicks': -2, 'impressions': 5, 'results': 60, 'agenda': 'A3', 'campaign': 'C2-2', 'network': 'Bar'}\n",
      "{'date': '2015-03-01', 'clicks': 4, 'impressions': 10, 'results': 6, 'agenda': 'A3', 'campaign': 'C2-2', 'network': 'Bar'}\n"
     ]
    }
   ],
   "source": [
    "\n",
    "for r in flatten_response(api_response, dimensions, kpis):\n",
    "    print(r)"
   ]
  },
  {
   "cell_type": "code",
   "execution_count": 28,
   "metadata": {},
   "outputs": [
    {
     "name": "stdout",
     "output_type": "stream",
     "text": [
      "[{'date': '2014-01-01', 'clicks': -2, 'impressions': 5, 'results': 60}, {'date': '2015-03-01', 'clicks': 4, 'impressions': 10, 'results': 6}]\n"
     ]
    }
   ],
   "source": [
    "print(_flatten_last_dimension(api_response['network'][1]['campaign'][1], dimensions[-1], kpis))"
   ]
  },
  {
   "cell_type": "code",
   "execution_count": null,
   "metadata": {},
   "outputs": [],
   "source": []
  }
 ],
 "metadata": {
  "kernelspec": {
   "display_name": "Python 3",
   "language": "python",
   "name": "python3"
  },
  "language_info": {
   "codemirror_mode": {
    "name": "ipython",
    "version": 3
   },
   "file_extension": ".py",
   "mimetype": "text/x-python",
   "name": "python",
   "nbconvert_exporter": "python",
   "pygments_lexer": "ipython3",
   "version": "3.7.4"
  }
 },
 "nbformat": 4,
 "nbformat_minor": 4
}
